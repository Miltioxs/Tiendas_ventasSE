{
 "cells": [
  {
   "cell_type": "code",
   "execution_count": 17,
   "metadata": {},
   "outputs": [],
   "source": [
    "import time\n",
    "import pandas as pd \n",
    "import numpy as np"
   ]
  },
  {
   "cell_type": "code",
   "execution_count": 9,
   "metadata": {},
   "outputs": [],
   "source": [
    "with open('costos.txt') as costos:\n",
    "    lista_deseos = list(map(int, costos.read().split('\\n'))) "
   ]
  },
  {
   "cell_type": "markdown",
   "metadata": {},
   "source": [
    "# Primera propuesta de solucion"
   ]
  },
  {
   "cell_type": "code",
   "execution_count": 12,
   "metadata": {
    "scrolled": true
   },
   "outputs": [
    {
     "name": "stdout",
     "output_type": "stream",
     "text": [
      "El total de la inversion es:  $ 32869928\n",
      "Duracion: 0.9338023662567139 segundos\n"
     ]
    }
   ],
   "source": [
    "inicio =time.time()\n",
    "inversion_empresa = []\n",
    "for item in (lista_deseos): \n",
    "    if item <= 25:\n",
    "        inversion_empresa.append(item)\n",
    "print ('El total de la inversion es: ', '$',sum(inversion_empresa))\n",
    "print ('Duracion: {} segundos'.format(time.time() - inicio))"
   ]
  },
  {
   "cell_type": "code",
   "execution_count": 30,
   "metadata": {},
   "outputs": [],
   "source": [
    "listas_deseos = pd.read_csv('costos.txt', header = None)"
   ]
  },
  {
   "cell_type": "markdown",
   "metadata": {},
   "source": [
    "# Segunda propuesta de solucion "
   ]
  },
  {
   "cell_type": "code",
   "execution_count": 31,
   "metadata": {},
   "outputs": [
    {
     "name": "stdout",
     "output_type": "stream",
     "text": [
      "El total de la inversion es:  $ 32869928.0\n",
      "Duracion: 0.0670011043548584 segundos\n"
     ]
    }
   ],
   "source": [
    "inicio =time.time()\n",
    "inversion_empresa = lista_deseos[lista_deseos <= 25]\n",
    "inversion_empresa = np.sum(inversion_empresa)\n",
    "print ('El total de la inversion es: ', '$',inversion_empresa)\n",
    "print ('Duracion: {} segundos'.format(time.time() - inicio))"
   ]
  }
 ],
 "metadata": {
  "kernelspec": {
   "display_name": "Python 3",
   "language": "python",
   "name": "python3"
  },
  "language_info": {
   "codemirror_mode": {
    "name": "ipython",
    "version": 3
   },
   "file_extension": ".py",
   "mimetype": "text/x-python",
   "name": "python",
   "nbconvert_exporter": "python",
   "pygments_lexer": "ipython3",
   "version": "3.7.7"
  }
 },
 "nbformat": 4,
 "nbformat_minor": 4
}
