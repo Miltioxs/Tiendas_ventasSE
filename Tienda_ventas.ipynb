{
 "cells": [
  {
   "cell_type": "code",
   "execution_count": 2,
   "metadata": {},
   "outputs": [],
   "source": [
    "import time\n",
    "import pandas as pd \n",
    "import numpy as np"
   ]
  },
  {
   "cell_type": "code",
   "execution_count": null,
   "metadata": {},
   "outputs": [],
   "source": [
    "with open('costos.txt') as costos:\n",
    "    lista_deseos = list(map(int, costos.read().split('\\n'))) "
   ]
  },
  {
   "cell_type": "markdown",
   "metadata": {},
   "source": [
    "# Primera propuesta de solucion"
   ]
  },
  {
   "cell_type": "code",
   "execution_count": 5,
   "metadata": {
    "scrolled": true
   },
   "outputs": [
    {
     "name": "stdout",
     "output_type": "stream",
     "text": [
      "El total de la inversion es:  $ 32869928\n",
      "Duracion: 3.028987407684326 segundos\n"
     ]
    }
   ],
   "source": [
    "inicio =time.time()\n",
    "inversion_empresa = []\n",
    "for item in (lista_deseos): \n",
    "    if item <= 25:\n",
    "        inversion_empresa.append(item)\n",
    "print ('El total de la inversion es: ', '$',sum(inversion_empresa))\n",
    "print ('Duracion: {} segundos'.format(time.time() - inicio))"
   ]
  },
  {
   "cell_type": "code",
   "execution_count": 6,
   "metadata": {},
   "outputs": [],
   "source": [
    "lista_deseos = np.genfromtxt('costos.txt', delimiter ='\\n', dtype = None)"
   ]
  },
  {
   "cell_type": "markdown",
   "metadata": {},
   "source": [
    "# Segunda propuesta de solucion "
   ]
  },
  {
   "cell_type": "code",
   "execution_count": 4,
   "metadata": {},
   "outputs": [
    {
     "name": "stdout",
     "output_type": "stream",
     "text": [
      "El total de la inversion es:  $ 32869928.0\n",
      "Duracion: 25.88199257850647 segundos\n"
     ]
    }
   ],
   "source": [
    "inicio =time.time()\n",
    "inversion_empresa = lista_deseos[lista_deseos <= 25]\n",
    "inversion_empresa = np.sum(inversion_empresa)\n",
    "print ('El total de la inversion es: ', '$',inversion_empresa)\n",
    "print ('Duracion: {} segundos'.format(time.time() - inicio))"
   ]
  },
  {
   "cell_type": "code",
   "execution_count": null,
   "metadata": {},
   "outputs": [],
   "source": []
  }
 ],
 "metadata": {
  "kernelspec": {
   "display_name": "Python 3",
   "language": "python",
   "name": "python3"
  },
  "language_info": {
   "codemirror_mode": {
    "name": "ipython",
    "version": 3
   },
   "file_extension": ".py",
   "mimetype": "text/x-python",
   "name": "python",
   "nbconvert_exporter": "python",
   "pygments_lexer": "ipython3",
   "version": "3.7.7"
  }
 },
 "nbformat": 4,
 "nbformat_minor": 4
}
