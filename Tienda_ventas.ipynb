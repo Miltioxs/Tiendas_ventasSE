{
 "cells": [
  {
   "cell_type": "code",
   "execution_count": 2,
   "metadata": {},
   "outputs": [],
   "source": [
    "import time\n",
    "import numpy as np"
   ]
  },
  {
   "cell_type": "code",
   "execution_count": 3,
   "metadata": {},
   "outputs": [],
   "source": [
    "with open('costos.txt') as costos:\n",
    "    lista_deseos = list(map(int, costos.read().split('\\n')))"
   ]
  },
  {
   "cell_type": "markdown",
   "metadata": {},
   "source": [
    "# Primera propuesta de solucion"
   ]
  },
  {
   "cell_type": "code",
   "execution_count": 22,
   "metadata": {
    "scrolled": true
   },
   "outputs": [
    {
     "name": "stdout",
     "output_type": "stream",
     "text": [
      "El total de la inversion es:  $ 32869928\n",
      "Duracion: 0.8369877338409424 segundos\n"
     ]
    }
   ],
   "source": [
    "inicio =time.time()\n",
    "inversion_tienda = []\n",
    "for item in lista_deseos: \n",
    "    if item <= 25:\n",
    "        inversion_tienda.append(item)\n",
    "print ('El total de la inversion es: ', '$',sum(inversion_tienda))\n",
    "print ('Duracion: {} segundos'.format(time.time() - inicio))"
   ]
  },
  {
   "cell_type": "markdown",
   "metadata": {},
   "source": [
    "# Segunda propuesta de solucion "
   ]
  },
  {
   "cell_type": "code",
   "execution_count": 15,
   "metadata": {},
   "outputs": [
    {
     "name": "stdout",
     "output_type": "stream",
     "text": [
      "El total de la inversion es:  $ 32869928\n",
      "Duracion: 0.6099975109100342 segundos\n"
     ]
    }
   ],
   "source": [
    "inicio =time.time()\n",
    "lista_deseos_array = np.array(lista_deseos)\n",
    "inversion_tienda = lista_deseos_array[lista_deseos_array <= 25]\n",
    "inversion_tienda = np.sum(inversion_tienda)\n",
    "print ('El total de la inversion es: ', '$',inversion_tienda)\n",
    "print ('Duracion: {} segundos'.format(time.time() - inicio))"
   ]
  }
 ],
 "metadata": {
  "kernelspec": {
   "display_name": "Python 3",
   "language": "python",
   "name": "python3"
  },
  "language_info": {
   "codemirror_mode": {
    "name": "ipython",
    "version": 3
   },
   "file_extension": ".py",
   "mimetype": "text/x-python",
   "name": "python",
   "nbconvert_exporter": "python",
   "pygments_lexer": "ipython3",
   "version": "3.7.7"
  }
 },
 "nbformat": 4,
 "nbformat_minor": 4
}
